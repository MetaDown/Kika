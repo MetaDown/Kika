{
    "cells": [
        {
            "cell_type": "code",
            "execution_count": null,
            "source": [
                "from skimage.segmentation import mark_boundaries, slic\n",
                "from skimage.util import img_as_float\n",
                "import matplotlib.pyplot as plt\n",
                "import numpy as np\n",
                "import cv2 as cv\n",
                "import argparse\n",
                "import os"
            ],
            "outputs": [],
            "metadata": {}
        },
        {
            "cell_type": "code",
            "execution_count": null,
            "source": [
                "def cambio_tam(img, mask_m, mask_h, mask_e):\n",
                "\n",
                "    gray = cv.cvtColor(img, cv.COLOR_BGR2GRAY)\n",
                "\n",
                "    gray = cv.GaussianBlur(gray, (7, 7), 3)\n",
                "    t, dst = cv.threshold(gray, 0, 255, cv.THRESH_BINARY | cv.THRESH_TRIANGLE)\n",
                "    contours, _= cv.findContours(dst, cv.RETR_TREE, cv.CHAIN_APPROX_SIMPLE)\n",
                "    img = cv.cvtColor(img, cv.COLOR_BGR2RGB)\n",
                "    a = []\n",
                "\n",
                "    for c in contours:\n",
                "        area = cv.contourArea(c)\n",
                "        a.append(area)\n",
                "        \n",
                "    for f in contours:\n",
                "        area = cv.contourArea(f)\n",
                "        if area == max(a):\n",
                "            x, y, w, h = cv.boundingRect(f)\n",
                "            imgr = img[y:y + h, x:x + w]\n",
                "            mask_f1= mask_m[y:y + h, x:x + w]\n",
                "            mask_f2= mask_h[y:y + h, x:x + w]\n",
                "            mask_f3= mask_e[y:y + h, x:x + w]\n",
                "\n",
                "    return cv.cvtColor(imgr, cv.COLOR_BGR2RGB), mask_f1, mask_f2, mask_f3"
            ],
            "outputs": [],
            "metadata": {}
        },
        {
            "cell_type": "code",
            "execution_count": null,
            "source": [
                "def revision(img, mask):\n",
                "\tf= 0; i= 0; posh_0=0; posh_1= 0\n",
                "\tposv_1= 0; posv_0= 0\n",
                "\twhile i < mask.shape[1]:\n",
                "\t\tif np.sum(mask[:, i])> 0 and f== 0:\n",
                "\t\t\tposh_0= i\n",
                "\t\t\tf= 1\n",
                "\t\t\n",
                "\t\tif np.sum(mask[:, i])== 0 and f== 1 or i== (mask.shape[1]-1):\n",
                "\t\t\tposh_1= i\n",
                "\t\t\tbreak\n",
                "\t\ti += 1\n",
                "\n",
                "\tf= 0; i= 0\n",
                "\twhile i < mask.shape[0]:\n",
                "\t\tif np.sum(mask[i, :])> 0 and f== 0:\n",
                "\t\t\tposv_0= i\n",
                "\t\t\tf= 1\n",
                "\t\t\n",
                "\t\tif np.sum(mask[i, :])== 0 and f== 1 or i== (mask.shape[0]-1):\n",
                "\t\t\tposv_1= i\n",
                "\t\t\tbreak\n",
                "\t\ti += 1\n",
                "\n",
                "\treturn [posv_0, posv_1, posh_0, posh_1]"
            ],
            "outputs": [],
            "metadata": {}
        },
        {
            "cell_type": "code",
            "execution_count": null,
            "source": [
                "def super_pixel(img, n_s, sig, mostrar= False):\n",
                "    segmentos= slic(img_as_float(img), n_segments= n_s, sigma= sig, start_label= 1)\n",
                "    \n",
                "    if mostrar== True:\n",
                "        fig= plt.figure(\"Super pixeles\")\n",
                "        ax= fig.add_subplot(1, 1, 1)\n",
                "        ax.imshow(mark_boundaries(img_as_float(cv.cvtColor(img, cv.COLOR_BGR2RGB)), segmentos))\n",
                "        plt.axis(\"off\")\n",
                "        plt.show()\n",
                "    \n",
                "    return segmentos"
            ],
            "outputs": [],
            "metadata": {}
        }
    ],
    "metadata": {
        "orig_nbformat": 4,
        "language_info": {
            "name": "python"
        }
    },
    "nbformat": 4,
    "nbformat_minor": 2
}